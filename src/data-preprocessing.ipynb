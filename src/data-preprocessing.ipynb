{
 "cells": [
  {
   "cell_type": "code",
   "execution_count": 29,
   "metadata": {},
   "outputs": [],
   "source": [
    "import pandas as pd\n",
    "\n",
    "df = pd.read_csv(r\"D:\\toka\\depi\\project\\E-commerce-chatbot\\data\\BigBasket_Products.csv\", index_col=0)\n",
    "pd.set_option(\"display.max_rows\", 5)"
   ]
  },
  {
   "cell_type": "code",
   "execution_count": 30,
   "metadata": {},
   "outputs": [
    {
     "data": {
      "text/html": [
       "<div>\n",
       "<style scoped>\n",
       "    .dataframe tbody tr th:only-of-type {\n",
       "        vertical-align: middle;\n",
       "    }\n",
       "\n",
       "    .dataframe tbody tr th {\n",
       "        vertical-align: top;\n",
       "    }\n",
       "\n",
       "    .dataframe thead th {\n",
       "        text-align: right;\n",
       "    }\n",
       "</style>\n",
       "<table border=\"1\" class=\"dataframe\">\n",
       "  <thead>\n",
       "    <tr style=\"text-align: right;\">\n",
       "      <th></th>\n",
       "      <th>product</th>\n",
       "      <th>category</th>\n",
       "      <th>sub_category</th>\n",
       "      <th>brand</th>\n",
       "      <th>sale_price</th>\n",
       "      <th>market_price</th>\n",
       "      <th>type</th>\n",
       "      <th>rating</th>\n",
       "      <th>description</th>\n",
       "    </tr>\n",
       "    <tr>\n",
       "      <th>index</th>\n",
       "      <th></th>\n",
       "      <th></th>\n",
       "      <th></th>\n",
       "      <th></th>\n",
       "      <th></th>\n",
       "      <th></th>\n",
       "      <th></th>\n",
       "      <th></th>\n",
       "      <th></th>\n",
       "    </tr>\n",
       "  </thead>\n",
       "  <tbody>\n",
       "    <tr>\n",
       "      <th>1</th>\n",
       "      <td>Garlic Oil - Vegetarian Capsule 500 mg</td>\n",
       "      <td>Beauty &amp; Hygiene</td>\n",
       "      <td>Hair Care</td>\n",
       "      <td>Sri Sri Ayurveda</td>\n",
       "      <td>220.0</td>\n",
       "      <td>220.0</td>\n",
       "      <td>Hair Oil &amp; Serum</td>\n",
       "      <td>4.1</td>\n",
       "      <td>This Product contains Garlic Oil that is known...</td>\n",
       "    </tr>\n",
       "    <tr>\n",
       "      <th>2</th>\n",
       "      <td>Water Bottle - Orange</td>\n",
       "      <td>Kitchen, Garden &amp; Pets</td>\n",
       "      <td>Storage &amp; Accessories</td>\n",
       "      <td>Mastercook</td>\n",
       "      <td>180.0</td>\n",
       "      <td>180.0</td>\n",
       "      <td>Water &amp; Fridge Bottles</td>\n",
       "      <td>2.3</td>\n",
       "      <td>Each product is microwave safe (without lid), ...</td>\n",
       "    </tr>\n",
       "    <tr>\n",
       "      <th>3</th>\n",
       "      <td>Brass Angle Deep - Plain, No.2</td>\n",
       "      <td>Cleaning &amp; Household</td>\n",
       "      <td>Pooja Needs</td>\n",
       "      <td>Trm</td>\n",
       "      <td>119.0</td>\n",
       "      <td>250.0</td>\n",
       "      <td>Lamp &amp; Lamp Oil</td>\n",
       "      <td>3.4</td>\n",
       "      <td>A perfect gift for all occasions, be it your m...</td>\n",
       "    </tr>\n",
       "    <tr>\n",
       "      <th>4</th>\n",
       "      <td>Cereal Flip Lid Container/Storage Jar - Assort...</td>\n",
       "      <td>Cleaning &amp; Household</td>\n",
       "      <td>Bins &amp; Bathroom Ware</td>\n",
       "      <td>Nakoda</td>\n",
       "      <td>149.0</td>\n",
       "      <td>176.0</td>\n",
       "      <td>Laundry, Storage Baskets</td>\n",
       "      <td>3.7</td>\n",
       "      <td>Multipurpose container with an attractive desi...</td>\n",
       "    </tr>\n",
       "    <tr>\n",
       "      <th>5</th>\n",
       "      <td>Creme Soft Soap - For Hands &amp; Body</td>\n",
       "      <td>Beauty &amp; Hygiene</td>\n",
       "      <td>Bath &amp; Hand Wash</td>\n",
       "      <td>Nivea</td>\n",
       "      <td>162.0</td>\n",
       "      <td>162.0</td>\n",
       "      <td>Bathing Bars &amp; Soaps</td>\n",
       "      <td>4.4</td>\n",
       "      <td>Nivea Creme Soft Soap gives your skin the best...</td>\n",
       "    </tr>\n",
       "  </tbody>\n",
       "</table>\n",
       "</div>"
      ],
      "text/plain": [
       "                                                 product  \\\n",
       "index                                                      \n",
       "1                 Garlic Oil - Vegetarian Capsule 500 mg   \n",
       "2                                  Water Bottle - Orange   \n",
       "3                         Brass Angle Deep - Plain, No.2   \n",
       "4      Cereal Flip Lid Container/Storage Jar - Assort...   \n",
       "5                     Creme Soft Soap - For Hands & Body   \n",
       "\n",
       "                     category           sub_category              brand  \\\n",
       "index                                                                     \n",
       "1            Beauty & Hygiene              Hair Care  Sri Sri Ayurveda    \n",
       "2      Kitchen, Garden & Pets  Storage & Accessories         Mastercook   \n",
       "3        Cleaning & Household            Pooja Needs                Trm   \n",
       "4        Cleaning & Household   Bins & Bathroom Ware             Nakoda   \n",
       "5            Beauty & Hygiene       Bath & Hand Wash              Nivea   \n",
       "\n",
       "       sale_price  market_price                      type  rating  \\\n",
       "index                                                               \n",
       "1           220.0         220.0          Hair Oil & Serum     4.1   \n",
       "2           180.0         180.0    Water & Fridge Bottles     2.3   \n",
       "3           119.0         250.0           Lamp & Lamp Oil     3.4   \n",
       "4           149.0         176.0  Laundry, Storage Baskets     3.7   \n",
       "5           162.0         162.0      Bathing Bars & Soaps     4.4   \n",
       "\n",
       "                                             description  \n",
       "index                                                     \n",
       "1      This Product contains Garlic Oil that is known...  \n",
       "2      Each product is microwave safe (without lid), ...  \n",
       "3      A perfect gift for all occasions, be it your m...  \n",
       "4      Multipurpose container with an attractive desi...  \n",
       "5      Nivea Creme Soft Soap gives your skin the best...  "
      ]
     },
     "execution_count": 30,
     "metadata": {},
     "output_type": "execute_result"
    }
   ],
   "source": [
    "df.head()"
   ]
  },
  {
   "cell_type": "code",
   "execution_count": 31,
   "metadata": {},
   "outputs": [
    {
     "name": "stdout",
     "output_type": "stream",
     "text": [
      "<class 'pandas.core.frame.DataFrame'>\n",
      "Index: 27555 entries, 1 to 27555\n",
      "Data columns (total 9 columns):\n",
      " #   Column        Non-Null Count  Dtype  \n",
      "---  ------        --------------  -----  \n",
      " 0   product       27554 non-null  object \n",
      " 1   category      27555 non-null  object \n",
      " 2   sub_category  27555 non-null  object \n",
      " 3   brand         27554 non-null  object \n",
      " 4   sale_price    27555 non-null  float64\n",
      " 5   market_price  27555 non-null  float64\n",
      " 6   type          27555 non-null  object \n",
      " 7   rating        18929 non-null  float64\n",
      " 8   description   27440 non-null  object \n",
      "dtypes: float64(3), object(6)\n",
      "memory usage: 2.1+ MB\n"
     ]
    }
   ],
   "source": [
    "df.info()"
   ]
  },
  {
   "cell_type": "code",
   "execution_count": 32,
   "metadata": {},
   "outputs": [],
   "source": [
    "df = df.drop('description', axis=1)"
   ]
  },
  {
   "cell_type": "code",
   "execution_count": 33,
   "metadata": {},
   "outputs": [
    {
     "name": "stdout",
     "output_type": "stream",
     "text": [
      "361\n"
     ]
    }
   ],
   "source": [
    "# Check duplicates\n",
    "print(df.duplicated().sum())"
   ]
  },
  {
   "cell_type": "code",
   "execution_count": 34,
   "metadata": {},
   "outputs": [],
   "source": [
    "# Remove duplicates\n",
    "df = df.drop_duplicates()"
   ]
  },
  {
   "cell_type": "code",
   "execution_count": 35,
   "metadata": {},
   "outputs": [
    {
     "name": "stdout",
     "output_type": "stream",
     "text": [
      "['Beauty & Hygiene' 'Kitchen, Garden & Pets' 'Cleaning & Household'\n",
      " 'Gourmet & World Food' 'Foodgrains, Oil & Masala'\n",
      " 'Snacks & Branded Foods' 'Beverages' 'Bakery, Cakes & Dairy' 'Baby Care'\n",
      " 'Fruits & Vegetables' 'Eggs, Meat & Fish']\n",
      "['Hair Care' 'Storage & Accessories' 'Pooja Needs' 'Bins & Bathroom Ware'\n",
      " 'Bath & Hand Wash' 'All Purpose Cleaners' 'Skin Care'\n",
      " 'Mops, Brushes & Scrubs' 'Cooking & Baking Needs' 'Chocolates & Biscuits'\n",
      " 'Fresheners & Repellents' 'Snacks, Dry Fruits, Nuts' 'Dairy & Cheese'\n",
      " 'Pasta, Soup & Noodles' 'Dry Fruits' 'Drinks & Beverages'\n",
      " 'Kitchen Accessories' 'Flask & Casserole' 'Breakfast Cereals'\n",
      " 'Frozen Veggies & Snacks' 'Fruit Juices & Drinks' 'Cookies, Rusk & Khari'\n",
      " 'Fragrances & Deos' 'Tea' 'Masalas & Spices' \"Men's Grooming\"\n",
      " 'Chocolates & Candies' 'Steel Utensils' 'Tinned & Processed Food'\n",
      " 'Organic Staples' 'Sauces, Spreads & Dips' 'Pickles & Chutney'\n",
      " 'Ready To Cook & Eat' 'Baby Bath & Hygiene' 'Stationery'\n",
      " 'Pet Food & Accessories' 'Biscuits & Cookies' 'Oral Care'\n",
      " 'Snacks & Namkeen' 'Detergents & Dishwash' 'Crockery & Cutlery'\n",
      " 'Cuts & Sprouts' 'Health & Medicine' 'Cookware & Non Stick' 'Dairy'\n",
      " 'Feminine Hygiene' 'Diapers & Wipes' 'Edible Oils & Ghee'\n",
      " 'Baby Food & Formula' 'Fresh Fruits' 'Fresh Vegetables'\n",
      " 'Herbs & Seasonings' 'Breads & Buns' 'Oils & Vinegar' 'Feeding & Nursing'\n",
      " 'Energy & Soft Drinks' 'Appliances & Electricals' 'Salt, Sugar & Jaggery'\n",
      " 'Gourmet Breads' 'Organic Fruits & Vegetables' 'Indian Mithai'\n",
      " 'Fish & Seafood' 'Sausages, Bacon & Salami' 'Disposables, Garbage Bag'\n",
      " 'Dals & Pulses' 'Noodle, Pasta, Vermicelli' 'Rice & Rice Products'\n",
      " 'Cakes & Pastries' 'Spreads, Sauces, Ketchup' 'Cereals & Breakfast'\n",
      " 'Party & Festive Needs' 'Eggs' 'Health Drink, Supplement' 'Non Dairy'\n",
      " 'Bakeware' 'Exotic Fruits & Veggies' 'Baby Accessories' 'Coffee' 'Makeup'\n",
      " 'Atta, Flours & Sooji' 'Car & Shoe Care' 'Mutton & Lamb' 'Gardening'\n",
      " 'Ice Creams & Desserts' 'Bakery Snacks' 'Water' 'Mothers & Maternity'\n",
      " 'Marinades' 'Pork & Other Meats' 'Flower Bouquets, Bunches']\n",
      "['Sri Sri Ayurveda ' 'Mastercook' 'Trm' ... 'Solo' '365' 'Baron De Bercy']\n",
      "['Hair Oil & Serum' 'Water & Fridge Bottles' 'Lamp & Lamp Oil'\n",
      " 'Laundry, Storage Baskets' 'Bathing Bars & Soaps'\n",
      " 'Disinfectant Spray & Cleaners' 'Face Care' 'Hand Wash & Sanitizers'\n",
      " 'Shampoo & Conditioner' 'Utensil Scrub-Pad, Glove' 'Flours & Pre-Mixes'\n",
      " 'Luxury Chocolates, Gifts' 'Floor & Other Cleaners' 'Mosquito Repellent'\n",
      " 'Soap Cases & Dispensers' 'Aromatherapy' 'Roasted Seeds & Nuts' 'Tofu'\n",
      " 'Tools & Accessories' 'Imported Noodles' 'Other Dry Fruits'\n",
      " 'Gourmet Tea & Tea Bags' 'Choppers & Graters' 'Casserole'\n",
      " 'Granola & Cereal Bars' 'Frozen Veg Snacks' 'Lip Care' 'Juices'\n",
      " 'Bakery Biscuits, Cookies' \"Men's Deodorants\" 'Green Tea'\n",
      " 'Containers Sets' 'Whole Spices' 'Blended Masalas' 'Chocolates'\n",
      " 'Eau De Toilette' 'Cookies, Biscotti, Wafer' 'Steel Lunch Boxes'\n",
      " 'Olive, Jalapeno, Gherkin' 'Organic Rice, Other Rice' 'Shaving Care'\n",
      " 'Imported Cleaners' 'Thai & Asian Sauces' 'Chutney Powder'\n",
      " 'Cooking Pastes' 'Gourmet Juices & Drinks' 'Face & Body' 'Beans & Pulses'\n",
      " 'Papads, Ready To Fry' 'Hair & Scalp Treatment' 'Baby Health'\n",
      " 'Notebooks, Files, Folders' 'Kitchen Tools & Other Accessories'\n",
      " 'Pet Meals & Treats' 'Chocolate, Peanut Spread'\n",
      " 'Marie, Health, Digestive' 'Electric Toothbrush' 'Pet Collars & Leashes'\n",
      " 'Toothpaste' 'Dry Fruits & Berries' 'Toothbrush' 'Chips & Corn Snacks'\n",
      " 'Imported Soups' 'Organic Dals & Pulses' 'Gourmet Ice Cream'\n",
      " 'Dishwash Bars & Powders' 'Glassware' 'International Cheese'\n",
      " 'Agarbatti, Incense Sticks' 'Cut & Peeled Veggies' 'Ayurveda'\n",
      " 'Tawa & Sauce Pan' 'Flavoured, Soya Milk' 'Namkeen & Savoury Snacks'\n",
      " 'Steel Storage Containers' 'Hair Removal' 'Diapers' 'Other Edible Oils'\n",
      " 'Quinoa & Grains' 'Shower Gel & Body Wash' 'Umbrella' 'Kadai & Fry Pans'\n",
      " 'Baby Food' 'Body Care' 'Organic Masalas & Spices' 'Gourmet Popcorn'\n",
      " 'Organic Fruits' 'Leaf & Dust Tea' 'Bowls & Vessels' 'Rusks'\n",
      " 'Air Freshener' 'Cabbage & Cauliflower' 'Lunch Boxes'\n",
      " 'Sunflower, Rice Bran Oil' 'Supplements & Proteins'\n",
      " 'Cream Biscuits & Wafers' 'Banana, Sapota & Papaya'\n",
      " 'Lemon, Ginger & Garlic' 'Baking, Cake Decorations'\n",
      " 'International Chocolates' 'Breakfast & Snack Mixes' 'Plates & Tumblers'\n",
      " 'Organic Edible Oil, Ghee' 'Lime & Mango Pickle' 'Powdered Spices'\n",
      " 'Milk, White & Sandwich' 'Curry Paste, Coconut Milk' 'Flakes'\n",
      " 'Flavoured & Other Oils' 'Healthy, Baked Snacks' 'Pure, Pomace Olive Oil'\n",
      " 'Hair Color' 'Bibs & Napkins' 'Exam Pads & Pencil Box'\n",
      " 'Sports & Energy Drinks' 'Everyday Medicine' 'CFL & Led Bulbs'\n",
      " 'Indian & Exotic Herbs' 'Sugar & Jaggery' 'Kitchen, Glass & Drain'\n",
      " 'Heat & Eat Ready Meals' 'Pressure Cookers' 'Gourmet Bread'\n",
      " 'Mops, Wipers' 'Organic Vegetables' 'Chikki & Gajjak' 'Attar'\n",
      " 'Body Sprays & Mists' 'Home Baking' 'Strainer, Ladle, Spatula'\n",
      " 'Balsamic & Cider Vinegar' 'Baby Wipes' 'Exotic Fruits' 'Dustbins'\n",
      " 'Cut Fruit, Tender Coconut' 'Talcum Powder' 'Herbs, Seasonings & Rubs'\n",
      " 'Paneer, Tofu & Cream' 'Frozen Fish & Seafood' 'Nachos & Chips'\n",
      " 'Exotic Sugar & Salt' 'Salted Biscuits' 'Vacuum Flask'\n",
      " 'Cotton & Ear Buds' 'Marshmallow, Candy, Jelly' 'Chicken Sausages'\n",
      " 'Health Drinks' 'Frozen Vegetables' 'Eau De Parfum'\n",
      " 'Paper Napkin, Tissue Box' 'Toor, Channa & Moong Dal' 'Sippers & Bottles'\n",
      " 'Instant Noodles' 'Cereals & Millets' 'Mustard & Cheese Sauces'\n",
      " 'Pork & Ham' 'Basmati Rice' 'Cook And Serve' 'Nursing Tools'\n",
      " 'Cold Drinks' 'Coffee & Pre-Mix' 'Dinner Sets' 'Detergent Bars'\n",
      " 'Tea Bags' 'Oats & Porridge' 'Exotic Vegetables' 'Muffins & Cup Cakes'\n",
      " 'Copper Utensils' 'Salad Dressings' 'Hummus, Cheese, Salsa Dip'\n",
      " 'Cereal & Granola Bars' 'Organic Baby Food' 'Chilli & Soya Sauce'\n",
      " 'Other Veg Pickle' 'Muesli' 'Tomatoes & Vegetables'\n",
      " 'Crackers & Digestive' 'Kids Cereal' 'Toilet Cleaners'\n",
      " 'Dust Cloth & Wipes' 'Tampons & Menstrual Cups' 'Ghee & Vanaspati'\n",
      " 'Cups, Mugs & Tumblers' 'Other Pooja Needs' 'Choco & Nut Spread'\n",
      " 'Beans, Brinjals & Okra' 'Caps, Balloons & Candles' 'Pen, Pencils'\n",
      " 'Plates & Bowls' 'Organic & Cold Press Oil' 'Face Masks & Safety Gears'\n",
      " 'Root Vegetables' 'Dessert Mixes' 'Toilet & Other Brushes'\n",
      " 'Organic Flours' 'Talc' 'Toffee, Candy & Lollypop'\n",
      " 'Bath Stool, Basin & Sets' 'Bathing Accessories' 'Colours & Crayons'\n",
      " 'Jams, Marmalade, Spreads' 'Sexual Wellness' 'Farm Eggs' 'Kids (5+Yrs)'\n",
      " 'Milk & Soya Drinks' 'Honey & Maple Syrup' 'Hair Care & Styling'\n",
      " 'Pastas & Spaghetti' 'Baking Tools & Brushes' 'Baby Powder'\n",
      " 'Other Plastic Ware' 'Cutlery, Spoon & Fork' 'Toilet Paper'\n",
      " 'Exotic & Flavoured Tea' 'Mouthwash' 'Cocktail Mixes'\n",
      " 'Intimate Wash & Care' 'Baby Oil & Shampoo' 'Yogurt & Shrikhand'\n",
      " 'Organic Sugar, Jaggery' 'Fresh Sweets' 'Tomato Ketchup & Sauces'\n",
      " 'Hangers, Clips & Rope' 'Bath & Shower' 'Herbs & Seasoning'\n",
      " 'Aerated, Still, Sparkling' 'Electronic Accessories'\n",
      " 'Wall Hooks & Hangers' \"Women's Deodorants\" 'Eye Care' 'Honey'\n",
      " 'Scissor, Glue & Tape' 'Tinned, Packed Sweets' 'Lighters' 'Garbage Bags'\n",
      " 'Soothers & Teethers' 'Mints & Chewing Gum' 'Ground Coffee'\n",
      " 'Buckets & Mugs' 'Perfume' 'Urad & Other Dals' 'Eyes'\n",
      " 'Fabric Pre, Post Wash' 'Cup Noodles' 'Pet Feeding Support'\n",
      " 'Pet Cleaning & Grooming' 'Non Veg Pickle' 'Frozen Non-Veg Snacks'\n",
      " 'Organic Dry Fruits' 'Sanitary Napkins' 'Dips & Dressings'\n",
      " 'Bath Salts & Oils' 'Mayonnaise' 'Gingelly Oil' 'Rice & Other Flours'\n",
      " 'Infant Formula' 'Shoe Polish' 'Cookies' 'Fresh Fish' 'Soups'\n",
      " 'Frozen Mutton' 'Syrups & Concentrates' 'Apples & Pomegranate'\n",
      " 'Detergent Powder, Liquid' 'Butter & Cream' 'Baby Bath' 'Kitchen Rolls'\n",
      " 'Boiled & Steam Rice' 'Extra Virgin Olive Oil' 'Muesli & Rice Cakes'\n",
      " 'Canned Seafood' 'Vinegar' 'Cheese' 'Gardening Tools' 'Racks & Holders'\n",
      " 'Mukhwas' 'Seasonal Accessories' 'Hair Styling' 'Pooja Thali & Bells'\n",
      " 'Ice Creams' 'Adult Diapers' 'Knives & Peelers' 'Baby Gift Sets'\n",
      " 'Cooking Chocolate, Cocoa' 'Jasmine & Sushi Rice'\n",
      " 'Buns, Pavs & Pizza Base' 'Gas Stove' 'Poha, Sabudana & Murmura'\n",
      " 'Men & Women' 'Raw Rice' 'Pasta & Macaroni' 'Fertilizers & Pesticides'\n",
      " 'Brooms & Dust Pans' 'Camphor & Wicks' 'Baby Oral Care'\n",
      " 'Frozen Indian Breads' 'Dishwash Liquids & Pastes' 'Battery & Electrical'\n",
      " 'Vermicelli' 'Gift Sets' 'Mangoes' 'Combos & Gift Sets'\n",
      " 'Baby Creams & Lotions' 'Pots, Planters & Trays' 'Bakeware Accessories'\n",
      " 'Bread Sticks & Lavash' 'Instant Coffee' 'Curd' 'Tea Cakes & Slice Cakes'\n",
      " 'Spring Water' 'Salts' 'Sugarfree Sweeteners' 'Imported Oats & Porridge'\n",
      " 'Cashews' 'Fresh Salads & Sprouts' 'Trail & Cocktail Mixes'\n",
      " 'Groundnut Oil' 'Leafy Vegetables' 'Premium Cookies'\n",
      " 'Pastries & Brownies' 'Soda & Cocktail Mix' 'Condensed, Powdered Milk'\n",
      " 'Moustache & Beard Care' 'Sooji, Maida & Besan' 'Fresh Mutton'\n",
      " 'Blended Cooking Oils' 'Insect Repellent' 'Car Freshener'\n",
      " 'Olive & Canola Oils' 'Floss & Tongue Cleaner' 'Car Polish & Cleaners'\n",
      " 'Cookware Sets' 'Face' 'Hakka Noodles' 'Panty Liners'\n",
      " 'Wet Wipe, Pocket Tissues' 'Candles & Match Box' 'Cream & Cheese Spreads'\n",
      " 'Eau De Cologne' 'Unsweetened, Cold Press' 'Flavoured & Greek Yogurt'\n",
      " 'Children (2-5 Yrs)' 'Khari & Cream Rolls' 'Disposable Cups & Plates'\n",
      " 'Meats & Sausages' 'Raisins' 'Jam, Conserve, Marmalade'\n",
      " 'Gift Wraps & Bags' 'Other Baby Accessories' 'Decorations'\n",
      " 'Panini, Focaccia & Pita' 'Instant Pasta' 'Baby Laundry'\n",
      " 'Games & Calculators' 'Gourmet Flakes' 'Birthday & Party Cakes'\n",
      " 'Pet Toys' 'Atta Whole Wheat' 'Croissants, Bagels'\n",
      " 'Antiseptics & Bandages' 'Aluminium Foil, Clingwrap'\n",
      " 'Body Scrubs & Exfoliants' 'Marinated Meat' 'Kiwi, Melon, Citrus Fruit'\n",
      " 'Organic Millet & Flours' 'Maternity Health Supplements'\n",
      " 'Brown, Wheat & Multigrain' 'Potato, Onion & Tomato'\n",
      " 'Glucose Powder, Tablets' 'Milk' 'Fresh & Frozen Pork'\n",
      " 'Wine & Rice Vinegar' 'Soya & Mustard Oils' 'Recipe Packs'\n",
      " 'Butter & Margarine' 'Glucose & Milk Biscuits'\n",
      " 'Gourd, Pumpkin, Drumstick' 'Other Flowers' 'Baby Dishes & Utensils'\n",
      " 'Makeup Accessories' 'Non Alcoholic Drinks' 'Dairy Free (Vegan)'\n",
      " 'Books & Magazines' 'Packaged Water' 'Canned Food' 'Almonds'\n",
      " 'Fruits & Pulps' 'Other Eggs' 'Cloth Dryer & Iron Table'\n",
      " 'Seeds & Sapling' 'Bakeware Moulds, Cutters' 'Buttermilk & Lassi'\n",
      " 'Dry Shampoo & Conditioner' 'Icetea, Non Aerated Drink' 'Country Eggs'\n",
      " 'Maternity Personal Care' 'Dry Fish' 'Cucumber & Capsicum'\n",
      " 'Bagels & Baguette' 'Slimming Products' 'Diabetic Drinks' 'Nails'\n",
      " 'Seasonal Fruits' 'Regular & White Vinegar' 'Gift Boxes'\n",
      " 'Non-Alcoholic Beer, Wine' 'Health Supplements' 'Protein Eggs'\n",
      " 'Fish & Tuna' 'Metal, Furniture Cleaner' 'Organic Eggs'\n",
      " 'Cheese & Garlic Bread' 'Baby Toys' 'Marigold' 'Erasers & Sharpeners'\n",
      " 'Baby Buds' 'Combs, Brushes, Clippers' 'Baking Accessories'\n",
      " 'Nappies & Rash Cream' 'Canola & Rapeseed Oil' 'Lips' 'Roses'\n",
      " 'Holi Colours & Pichkari' 'Prawns & Shrimps' 'Specialty' 'Turkey & Duck']\n"
     ]
    }
   ],
   "source": [
    "# Check unique values\n",
    "print(df[\"category\"].unique())\n",
    "print(df[\"sub_category\"].unique())\n",
    "print(df[\"brand\"].unique())\n",
    "print(df[\"type\"].unique())\n"
   ]
  },
  {
   "cell_type": "code",
   "execution_count": 36,
   "metadata": {},
   "outputs": [
    {
     "name": "stdout",
     "output_type": "stream",
     "text": [
      "product            1\n",
      "category           0\n",
      "sub_category       0\n",
      "brand              1\n",
      "sale_price         0\n",
      "market_price       0\n",
      "type               0\n",
      "rating          8461\n",
      "dtype: int64\n"
     ]
    }
   ],
   "source": [
    "missing_values = df.isnull().sum()\n",
    "\n",
    "# show all rows\n",
    "pd.set_option('display.max_rows', None)\n",
    "\n",
    "print(missing_values)"
   ]
  },
  {
   "cell_type": "code",
   "execution_count": 37,
   "metadata": {},
   "outputs": [
    {
     "name": "stdout",
     "output_type": "stream",
     "text": [
      "      product   category sub_category          brand  sale_price  \\\n",
      "index                                                              \n",
      "14364     NaN  Beverages       Coffee  Cothas Coffee       200.0   \n",
      "\n",
      "       market_price           type  rating  \n",
      "index                                       \n",
      "14364         240.0  Ground Coffee     4.2  \n"
     ]
    }
   ],
   "source": [
    "# show the row that has a missing value in 'product' column\n",
    "missing_rows_of_product = df[df['product'].isnull()]\n",
    "print(missing_rows_of_product)"
   ]
  },
  {
   "cell_type": "code",
   "execution_count": 38,
   "metadata": {},
   "outputs": [],
   "source": [
    "df = df.dropna(subset=['product'])"
   ]
  },
  {
   "cell_type": "code",
   "execution_count": 39,
   "metadata": {},
   "outputs": [],
   "source": [
    "df['brand'] = df['brand'].fillna('Unkown')"
   ]
  },
  {
   "cell_type": "code",
   "execution_count": 40,
   "metadata": {},
   "outputs": [
    {
     "data": {
      "image/png": "[encoded data removed]",
      "text/plain": [
       "<Figure size 640x480 with 1 Axes>"
      ]
     },
     "metadata": {},
     "output_type": "display_data"
    }
   ],
   "source": [
    "import matplotlib.pyplot as plt\n",
    "import seaborn as sns\n",
    "\n",
    "# Histogram of ratings to see its distribution\n",
    "sns.histplot(df['rating'], bins=20, kde=True)\n",
    "plt.title(\"Distribution of Ratings\")\n",
    "plt.xlabel(\"Rating\")\n",
    "plt.ylabel(\"Frequency\")\n",
    "plt.show()"
   ]
  },
  {
   "cell_type": "code",
   "execution_count": 41,
   "metadata": {},
   "outputs": [
    {
     "name": "stderr",
     "output_type": "stream",
     "text": [
      "C:\\Users\\hp\\AppData\\Local\\Temp\\ipykernel_5640\\333645285.py:1: FutureWarning: A value is trying to be set on a copy of a DataFrame or Series through chained assignment using an inplace method.\n",
      "The behavior will change in pandas 3.0. This inplace method will never work because the intermediate object on which we are setting values always behaves as a copy.\n",
      "\n",
      "For example, when doing 'df[col].method(value, inplace=True)', try using 'df.method({col: value}, inplace=True)' or df[col] = df[col].method(value) instead, to perform the operation inplace on the original object.\n",
      "\n",
      "\n",
      "  df['rating'].fillna(df['rating'].median(), inplace=True)\n"
     ]
    }
   ],
   "source": [
    "df['rating'].fillna(df['rating'].median(), inplace=True)"
   ]
  },
  {
   "cell_type": "code",
   "execution_count": 42,
   "metadata": {},
   "outputs": [
    {
     "name": "stdout",
     "output_type": "stream",
     "text": [
      "product         0\n",
      "category        0\n",
      "sub_category    0\n",
      "brand           0\n",
      "sale_price      0\n",
      "market_price    0\n",
      "type            0\n",
      "rating          0\n",
      "dtype: int64\n"
     ]
    }
   ],
   "source": [
    "missing_values_after = df.isnull().sum()\n",
    "\n",
    "# show all rows\n",
    "pd.set_option('display.max_rows', None)\n",
    "\n",
    "print(missing_values_after)"
   ]
  },
  {
   "cell_type": "code",
   "execution_count": 43,
   "metadata": {},
   "outputs": [
    {
     "name": "stdout",
     "output_type": "stream",
     "text": [
      "Empty DataFrame\n",
      "Columns: [product, category, sub_category, brand, sale_price, market_price, type, rating]\n",
      "Index: []\n",
      "Number of products with market_price = 0 : 0\n"
     ]
    }
   ],
   "source": [
    "# Check for rows where market_price is 0\n",
    "zero_market_price = df[df['market_price'] == 0]\n",
    "\n",
    "# Display the rows\n",
    "print(zero_market_price)\n",
    "\n",
    "# Count how many such rows exist\n",
    "print(f\"Number of products with market_price = 0 : {len(zero_market_price)}\")"
   ]
  },
  {
   "cell_type": "code",
   "execution_count": 44,
   "metadata": {},
   "outputs": [
    {
     "name": "stdout",
     "output_type": "stream",
     "text": [
      "Empty DataFrame\n",
      "Columns: [product, category, sub_category, brand, sale_price, market_price, type, rating]\n",
      "Index: []\n",
      "Number of products where sale price is greater than market price: 0\n"
     ]
    }
   ],
   "source": [
    "# Count rows where sale price is greater than market price\n",
    "invalid_prices = df[df['sale_price'] > df['market_price']]\n",
    "\n",
    "# Display the rows (optional)\n",
    "print(invalid_prices)\n",
    "\n",
    "# Print the number of such rows\n",
    "print(f\"Number of products where sale price is greater than market price: {len(invalid_prices)}\")"
   ]
  },
  {
   "cell_type": "code",
   "execution_count": 45,
   "metadata": {},
   "outputs": [
    {
     "name": "stdout",
     "output_type": "stream",
     "text": [
      "Q&A dataset created successfully!\n"
     ]
    }
   ],
   "source": [
    "# create the Q&A dataset\n",
    "\n",
    "# List for storing Q&A pairs\n",
    "qa_pairs = []\n",
    "\n",
    "# 1. Basic Q&A generation\n",
    "for _, row in df.iterrows():\n",
    "    product = row['product']\n",
    "    category = row['category']\n",
    "    sub_category = row['sub_category']\n",
    "    brand = row['brand']\n",
    "    price = row['sale_price']\n",
    "    # market_price = row['market_price']\n",
    "    type = row['type']\n",
    "    rating = row['rating']\n",
    "\n",
    "    qa_pairs.append((f\"What is {product}?\", f\"{product} is a product in the {sub_category} sub category and in the {category} category\"))\n",
    "    qa_pairs.append((f\"What is the brand of {product}?\", f\"The brand of {product} is {brand}\"))\n",
    "    qa_pairs.append((f\"What is the price of {product}?\", f\"The price of {product} is {price}\"))\n",
    "    qa_pairs.append((f\"What is the type of {product}?\", f\"The type of {product} is {type}\"))\n",
    "    qa_pairs.append((f\"What is the rating of {product}?\", f\"The rating of {product} is {rating}\"))\n",
    "\n",
    "# 2. Sorting products by category\n",
    "categories = df['category'].unique()\n",
    "for category in categories:\n",
    "    category_products = df[df['category'] == category]\n",
    "\n",
    "    # Sort by price (ascending)\n",
    "    sorted_by_price = category_products.sort_values(by='sale_price')\n",
    "    price_list = \", \".join([f\"{row['product']} (${row['sale_price']})\" for _, row in sorted_by_price.iterrows()])\n",
    "    qa_pairs.append((f\"Sort products in {category} by price\", f\"The products in {category} sorted by price are: {price_list}\"))\n",
    "\n",
    "    # Sort by rating (descending)\n",
    "    sorted_by_rating = category_products.sort_values(by='rating', ascending=False)\n",
    "    rating_list = \", \".join([f\"{row['product']} (Rating: {row['rating']})\" for _, row in sorted_by_rating.iterrows()])\n",
    "    qa_pairs.append((f\"Sort products in {category} by rating\", f\"The products in {category} sorted by rating are: {rating_list}\"))\n",
    "\n",
    "# 3. Discount calculation\n",
    "for _, row in df.iterrows():\n",
    "    product = row['product']\n",
    "    price = row['sale_price']\n",
    "    market_price = row['market_price']\n",
    "\n",
    "    if price and market_price:\n",
    "        discount = round((market_price - price) / market_price * 100, 2)\n",
    "        qa_pairs.append((f\"What is the discount on {product}?\", f\"The discount on {product} is {discount}%\"))\n",
    "\n",
    "# 4. Adding Q&A for Services\n",
    "services_qa = [\n",
    "    (\"What are the shipping options?\", \"We offer standard, express, and same-day delivery options.\"),\n",
    "    (\"What is the return policy?\", \"You can return products within 30 days of purchase if they are unused and in original packaging.\"),\n",
    "    (\"How can I contact customer support?\", \"You can reach customer support via phone, email, or live chat on our website.\"),\n",
    "    (\"Do you offer international shipping?\", \"Currently, we only ship within the country, but international shipping is coming soon.\"),\n",
    "    (\"What payment methods do you accept?\", \"We accept credit/debit cards, PayPal, and online banking payments.\")\n",
    "]\n",
    "qa_pairs.extend(services_qa)          \n",
    "\n",
    "# Save the Q&A dataset\n",
    "qa_df = pd.DataFrame(qa_pairs, columns=[\"question\", \"answer\"])\n",
    "qa_df.to_csv(r\"D:\\toka\\depi\\project\\E-commerce-chatbot\\data/qna_dataset.csv\", index=False)\n",
    "print(f\"Q&A dataset created successfully!\")"
   ]
  },
  {
   "cell_type": "code",
   "execution_count": 46,
   "metadata": {},
   "outputs": [
    {
     "data": {
      "text/html": [
       "<div>\n",
       "<style scoped>\n",
       "    .dataframe tbody tr th:only-of-type {\n",
       "        vertical-align: middle;\n",
       "    }\n",
       "\n",
       "    .dataframe tbody tr th {\n",
       "        vertical-align: top;\n",
       "    }\n",
       "\n",
       "    .dataframe thead th {\n",
       "        text-align: right;\n",
       "    }\n",
       "</style>\n",
       "<table border=\"1\" class=\"dataframe\">\n",
       "  <thead>\n",
       "    <tr style=\"text-align: right;\">\n",
       "      <th></th>\n",
       "      <th>question</th>\n",
       "      <th>answer</th>\n",
       "    </tr>\n",
       "  </thead>\n",
       "  <tbody>\n",
       "    <tr>\n",
       "      <th>0</th>\n",
       "      <td>What is Garlic Oil - Vegetarian Capsule 500 mg?</td>\n",
       "      <td>Garlic Oil - Vegetarian Capsule 500 mg is a pr...</td>\n",
       "    </tr>\n",
       "    <tr>\n",
       "      <th>1</th>\n",
       "      <td>What is the brand of Garlic Oil - Vegetarian C...</td>\n",
       "      <td>The brand of Garlic Oil - Vegetarian Capsule 5...</td>\n",
       "    </tr>\n",
       "    <tr>\n",
       "      <th>2</th>\n",
       "      <td>What is the price of Garlic Oil - Vegetarian C...</td>\n",
       "      <td>The price of Garlic Oil - Vegetarian Capsule 5...</td>\n",
       "    </tr>\n",
       "    <tr>\n",
       "      <th>3</th>\n",
       "      <td>What is the type of Garlic Oil - Vegetarian Ca...</td>\n",
       "      <td>The type of Garlic Oil - Vegetarian Capsule 50...</td>\n",
       "    </tr>\n",
       "    <tr>\n",
       "      <th>4</th>\n",
       "      <td>What is the rating of Garlic Oil - Vegetarian ...</td>\n",
       "      <td>The rating of Garlic Oil - Vegetarian Capsule ...</td>\n",
       "    </tr>\n",
       "  </tbody>\n",
       "</table>\n",
       "</div>"
      ],
      "text/plain": [
       "                                            question  \\\n",
       "0    What is Garlic Oil - Vegetarian Capsule 500 mg?   \n",
       "1  What is the brand of Garlic Oil - Vegetarian C...   \n",
       "2  What is the price of Garlic Oil - Vegetarian C...   \n",
       "3  What is the type of Garlic Oil - Vegetarian Ca...   \n",
       "4  What is the rating of Garlic Oil - Vegetarian ...   \n",
       "\n",
       "                                              answer  \n",
       "0  Garlic Oil - Vegetarian Capsule 500 mg is a pr...  \n",
       "1  The brand of Garlic Oil - Vegetarian Capsule 5...  \n",
       "2  The price of Garlic Oil - Vegetarian Capsule 5...  \n",
       "3  The type of Garlic Oil - Vegetarian Capsule 50...  \n",
       "4  The rating of Garlic Oil - Vegetarian Capsule ...  "
      ]
     },
     "execution_count": 46,
     "metadata": {},
     "output_type": "execute_result"
    }
   ],
   "source": [
    "qa_df.head()"
   ]
  },
  {
   "cell_type": "code",
   "execution_count": 47,
   "metadata": {},
   "outputs": [
    {
     "name": "stdout",
     "output_type": "stream",
     "text": [
      "<class 'pandas.core.frame.DataFrame'>\n",
      "RangeIndex: 163185 entries, 0 to 163184\n",
      "Data columns (total 2 columns):\n",
      " #   Column    Non-Null Count   Dtype \n",
      "---  ------    --------------   ----- \n",
      " 0   question  163185 non-null  object\n",
      " 1   answer    163185 non-null  object\n",
      "dtypes: object(2)\n",
      "memory usage: 2.5+ MB\n"
     ]
    }
   ],
   "source": [
    "qa_df.info()"
   ]
  },
  {
   "cell_type": "code",
   "execution_count": 48,
   "metadata": {},
   "outputs": [
    {
     "name": "stdout",
     "output_type": "stream",
     "text": [
      "question    0\n",
      "answer      0\n",
      "dtype: int64\n"
     ]
    }
   ],
   "source": [
    "print(qa_df.isnull().sum())"
   ]
  },
  {
   "cell_type": "code",
   "execution_count": 49,
   "metadata": {},
   "outputs": [
    {
     "name": "stdout",
     "output_type": "stream",
     "text": [
      "Empty DataFrame\n",
      "Columns: [question, answer]\n",
      "Index: []\n"
     ]
    }
   ],
   "source": [
    "print(qa_df[(qa_df['question'] == '') | (qa_df['answer'] == '')])"
   ]
  }
 ],
 "metadata": {
  "kernelspec": {
   "display_name": "Python 3",
   "language": "python",
   "name": "python3"
  },
  "language_info": {
   "codemirror_mode": {
    "name": "ipython",
    "version": 3
   },
   "file_extension": ".py",
   "mimetype": "text/x-python",
   "name": "python",
   "nbconvert_exporter": "python",
   "pygments_lexer": "ipython3",
   "version": "3.12.4"
  }
 },
 "nbformat": 4,
 "nbformat_minor": 2
}
