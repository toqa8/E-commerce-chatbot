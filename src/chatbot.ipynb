{
 "cells": [
  {
   "cell_type": "code",
   "execution_count": null,
   "id": "f243bfac",
   "metadata": {},
   "outputs": [],
   "source": [
    "from langchain.prompts import PromptTemplate\n",
    "from langchain_community.llms import Ollama\n",
    "\n",
    "llm = Ollama(model='llama2')\n",
    "\n",
    "\n",
    "def get_prompt_template():\n",
    "    template = \"\"\"\n",
    "You are a helpful e-commerce assistant. Use the following question-answer pairs (context) to help answer the user's question.\n",
    "\n",
    "{context}\n",
    "\n",
    "User's Question: {query}\n",
    "\n",
    "Provide a clear and helpful answer based on the information above.\n",
    "\"\"\"\n",
    "    return PromptTemplate(input_variables=[\"context\", \"query\"], template=template)"
   ]
  }
 ],
 "metadata": {
  "language_info": {
   "name": "python"
  }
 },
 "nbformat": 4,
 "nbformat_minor": 5
}
