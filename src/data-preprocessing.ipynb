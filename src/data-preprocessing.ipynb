{
 "cells": [
  {
   "cell_type": "code",
   "execution_count": 35,
   "metadata": {},
   "outputs": [],
   "source": [
    "import pandas as pd\n",
    "\n",
    "df = pd.read_csv(r\"D:\\toka\\depi\\project\\E-commerce-chatbot\\data\\BigBasket_Products.csv\", index_col=0)\n",
    "pd.set_option(\"display.max_rows\", 5)"
   ]
  },
  {
   "cell_type": "code",
   "execution_count": 36,
   "metadata": {},
   "outputs": [
    {
     "data": {
      "text/html": [
       "<div>\n",
       "<style scoped>\n",
       "    .dataframe tbody tr th:only-of-type {\n",
       "        vertical-align: middle;\n",
       "    }\n",
       "\n",
       "    .dataframe tbody tr th {\n",
       "        vertical-align: top;\n",
       "    }\n",
       "\n",
       "    .dataframe thead th {\n",
       "        text-align: right;\n",
       "    }\n",
       "</style>\n",
       "<table border=\"1\" class=\"dataframe\">\n",
       "  <thead>\n",
       "    <tr style=\"text-align: right;\">\n",
       "      <th></th>\n",
       "      <th>product</th>\n",
       "      <th>category</th>\n",
       "      <th>sub_category</th>\n",
       "      <th>brand</th>\n",
       "      <th>sale_price</th>\n",
       "      <th>market_price</th>\n",
       "      <th>type</th>\n",
       "      <th>rating</th>\n",
       "      <th>description</th>\n",
       "    </tr>\n",
       "    <tr>\n",
       "      <th>index</th>\n",
       "      <th></th>\n",
       "      <th></th>\n",
       "      <th></th>\n",
       "      <th></th>\n",
       "      <th></th>\n",
       "      <th></th>\n",
       "      <th></th>\n",
       "      <th></th>\n",
       "      <th></th>\n",
       "    </tr>\n",
       "  </thead>\n",
       "  <tbody>\n",
       "    <tr>\n",
       "      <th>1</th>\n",
       "      <td>Garlic Oil - Vegetarian Capsule 500 mg</td>\n",
       "      <td>Beauty &amp; Hygiene</td>\n",
       "      <td>Hair Care</td>\n",
       "      <td>Sri Sri Ayurveda</td>\n",
       "      <td>220.0</td>\n",
       "      <td>220.0</td>\n",
       "      <td>Hair Oil &amp; Serum</td>\n",
       "      <td>4.1</td>\n",
       "      <td>This Product contains Garlic Oil that is known...</td>\n",
       "    </tr>\n",
       "    <tr>\n",
       "      <th>2</th>\n",
       "      <td>Water Bottle - Orange</td>\n",
       "      <td>Kitchen, Garden &amp; Pets</td>\n",
       "      <td>Storage &amp; Accessories</td>\n",
       "      <td>Mastercook</td>\n",
       "      <td>180.0</td>\n",
       "      <td>180.0</td>\n",
       "      <td>Water &amp; Fridge Bottles</td>\n",
       "      <td>2.3</td>\n",
       "      <td>Each product is microwave safe (without lid), ...</td>\n",
       "    </tr>\n",
       "    <tr>\n",
       "      <th>3</th>\n",
       "      <td>Brass Angle Deep - Plain, No.2</td>\n",
       "      <td>Cleaning &amp; Household</td>\n",
       "      <td>Pooja Needs</td>\n",
       "      <td>Trm</td>\n",
       "      <td>119.0</td>\n",
       "      <td>250.0</td>\n",
       "      <td>Lamp &amp; Lamp Oil</td>\n",
       "      <td>3.4</td>\n",
       "      <td>A perfect gift for all occasions, be it your m...</td>\n",
       "    </tr>\n",
       "    <tr>\n",
       "      <th>4</th>\n",
       "      <td>Cereal Flip Lid Container/Storage Jar - Assort...</td>\n",
       "      <td>Cleaning &amp; Household</td>\n",
       "      <td>Bins &amp; Bathroom Ware</td>\n",
       "      <td>Nakoda</td>\n",
       "      <td>149.0</td>\n",
       "      <td>176.0</td>\n",
       "      <td>Laundry, Storage Baskets</td>\n",
       "      <td>3.7</td>\n",
       "      <td>Multipurpose container with an attractive desi...</td>\n",
       "    </tr>\n",
       "    <tr>\n",
       "      <th>5</th>\n",
       "      <td>Creme Soft Soap - For Hands &amp; Body</td>\n",
       "      <td>Beauty &amp; Hygiene</td>\n",
       "      <td>Bath &amp; Hand Wash</td>\n",
       "      <td>Nivea</td>\n",
       "      <td>162.0</td>\n",
       "      <td>162.0</td>\n",
       "      <td>Bathing Bars &amp; Soaps</td>\n",
       "      <td>4.4</td>\n",
       "      <td>Nivea Creme Soft Soap gives your skin the best...</td>\n",
       "    </tr>\n",
       "  </tbody>\n",
       "</table>\n",
       "</div>"
      ],
      "text/plain": [
       "                                                 product  \\\n",
       "index                                                      \n",
       "1                 Garlic Oil - Vegetarian Capsule 500 mg   \n",
       "2                                  Water Bottle - Orange   \n",
       "3                         Brass Angle Deep - Plain, No.2   \n",
       "4      Cereal Flip Lid Container/Storage Jar - Assort...   \n",
       "5                     Creme Soft Soap - For Hands & Body   \n",
       "\n",
       "                     category           sub_category              brand  \\\n",
       "index                                                                     \n",
       "1            Beauty & Hygiene              Hair Care  Sri Sri Ayurveda    \n",
       "2      Kitchen, Garden & Pets  Storage & Accessories         Mastercook   \n",
       "3        Cleaning & Household            Pooja Needs                Trm   \n",
       "4        Cleaning & Household   Bins & Bathroom Ware             Nakoda   \n",
       "5            Beauty & Hygiene       Bath & Hand Wash              Nivea   \n",
       "\n",
       "       sale_price  market_price                      type  rating  \\\n",
       "index                                                               \n",
       "1           220.0         220.0          Hair Oil & Serum     4.1   \n",
       "2           180.0         180.0    Water & Fridge Bottles     2.3   \n",
       "3           119.0         250.0           Lamp & Lamp Oil     3.4   \n",
       "4           149.0         176.0  Laundry, Storage Baskets     3.7   \n",
       "5           162.0         162.0      Bathing Bars & Soaps     4.4   \n",
       "\n",
       "                                             description  \n",
       "index                                                     \n",
       "1      This Product contains Garlic Oil that is known...  \n",
       "2      Each product is microwave safe (without lid), ...  \n",
       "3      A perfect gift for all occasions, be it your m...  \n",
       "4      Multipurpose container with an attractive desi...  \n",
       "5      Nivea Creme Soft Soap gives your skin the best...  "
      ]
     },
     "execution_count": 36,
     "metadata": {},
     "output_type": "execute_result"
    }
   ],
   "source": [
    "df.head()"
   ]
  },
  {
   "cell_type": "code",
   "execution_count": 37,
   "metadata": {},
   "outputs": [
    {
     "name": "stdout",
     "output_type": "stream",
     "text": [
      "<class 'pandas.core.frame.DataFrame'>\n",
      "Index: 27555 entries, 1 to 27555\n",
      "Data columns (total 9 columns):\n",
      " #   Column        Non-Null Count  Dtype  \n",
      "---  ------        --------------  -----  \n",
      " 0   product       27554 non-null  object \n",
      " 1   category      27555 non-null  object \n",
      " 2   sub_category  27555 non-null  object \n",
      " 3   brand         27554 non-null  object \n",
      " 4   sale_price    27555 non-null  float64\n",
      " 5   market_price  27555 non-null  float64\n",
      " 6   type          27555 non-null  object \n",
      " 7   rating        18929 non-null  float64\n",
      " 8   description   27440 non-null  object \n",
      "dtypes: float64(3), object(6)\n",
      "memory usage: 2.1+ MB\n"
     ]
    }
   ],
   "source": [
    "df.info()"
   ]
  },
  {
   "cell_type": "code",
   "execution_count": 38,
   "metadata": {},
   "outputs": [
    {
     "name": "stdout",
     "output_type": "stream",
     "text": [
      "product            1\n",
      "category           0\n",
      "sub_category       0\n",
      "brand              1\n",
      "sale_price         0\n",
      "market_price       0\n",
      "type               0\n",
      "rating          8626\n",
      "description      115\n",
      "dtype: int64\n"
     ]
    }
   ],
   "source": [
    "missing_values = df.isnull().sum()\n",
    "\n",
    "# show all rows\n",
    "pd.set_option('display.max_rows', None)\n",
    "\n",
    "print(missing_values)"
   ]
  },
  {
   "cell_type": "code",
   "execution_count": 39,
   "metadata": {},
   "outputs": [
    {
     "name": "stdout",
     "output_type": "stream",
     "text": [
      "      product   category sub_category          brand  sale_price  \\\n",
      "index                                                              \n",
      "14364     NaN  Beverages       Coffee  Cothas Coffee       200.0   \n",
      "\n",
      "       market_price           type  rating  \\\n",
      "index                                        \n",
      "14364         240.0  Ground Coffee     4.2   \n",
      "\n",
      "                                             description  \n",
      "index                                                     \n",
      "14364  Cothas Specialty Blend Coffee and Chicory incl...  \n"
     ]
    }
   ],
   "source": [
    "# show the row that has a missing value in 'product' column\n",
    "missing_rows_of_product = df[df['product'].isnull()]\n",
    "print(missing_rows_of_product)"
   ]
  },
  {
   "cell_type": "code",
   "execution_count": 40,
   "metadata": {},
   "outputs": [],
   "source": [
    "df = df.dropna(subset=['product'])"
   ]
  },
  {
   "cell_type": "code",
   "execution_count": 41,
   "metadata": {},
   "outputs": [],
   "source": [
    "df['description'] = df['description'].fillna('No description')"
   ]
  },
  {
   "cell_type": "code",
   "execution_count": 42,
   "metadata": {},
   "outputs": [],
   "source": [
    "df['brand'] = df['brand'].fillna('Unkown')"
   ]
  },
  {
   "cell_type": "code",
   "execution_count": 43,
   "metadata": {},
   "outputs": [],
   "source": [
    "df['rating'] = df.groupby('sub_category')['rating'].transform(lambda x: x.fillna(x.mean()))"
   ]
  },
  {
   "cell_type": "code",
   "execution_count": 44,
   "metadata": {},
   "outputs": [
    {
     "name": "stdout",
     "output_type": "stream",
     "text": [
      "product           0\n",
      "category          0\n",
      "sub_category      0\n",
      "brand             0\n",
      "sale_price        0\n",
      "market_price      0\n",
      "type              0\n",
      "rating          861\n",
      "description       0\n",
      "dtype: int64\n"
     ]
    }
   ],
   "source": [
    "missing_values_after = df.isnull().sum()\n",
    "\n",
    "# show all rows\n",
    "pd.set_option('display.max_rows', None)\n",
    "\n",
    "print(missing_values_after)"
   ]
  },
  {
   "cell_type": "markdown",
   "metadata": {},
   "source": [
    "There are still missing values in the rating column after filling them by sub-category, it means that some sub-categories have all ratings missing, so their mean is NaN.\n",
    "Solution: Fill remaining NaN values with the mean of a broader category-level (category column)"
   ]
  },
  {
   "cell_type": "code",
   "execution_count": 45,
   "metadata": {},
   "outputs": [],
   "source": [
    "# Fill the remaining NaN values with the category-level mean\n",
    "df['rating'] = df.groupby('category')['rating'].transform(lambda x: x.fillna(x.mean()))"
   ]
  },
  {
   "cell_type": "code",
   "execution_count": 46,
   "metadata": {},
   "outputs": [
    {
     "name": "stdout",
     "output_type": "stream",
     "text": [
      "product           0\n",
      "category          0\n",
      "sub_category      0\n",
      "brand             0\n",
      "sale_price        0\n",
      "market_price      0\n",
      "type              0\n",
      "rating          350\n",
      "description       0\n",
      "dtype: int64\n"
     ]
    }
   ],
   "source": [
    "missing_values_after2 = df.isnull().sum()\n",
    "\n",
    "# show all rows\n",
    "pd.set_option('display.max_rows', None)\n",
    "\n",
    "print(missing_values_after2)"
   ]
  },
  {
   "cell_type": "markdown",
   "metadata": {},
   "source": [
    "There are still missing values in the rating column after filling them by category, it means that some categories have all ratings missing, so their mean is NaN.\n",
    "Solution: Fill remaining NaN values with the overall mean of rating"
   ]
  },
  {
   "cell_type": "code",
   "execution_count": 47,
   "metadata": {},
   "outputs": [
    {
     "name": "stderr",
     "output_type": "stream",
     "text": [
      "C:\\Users\\hp\\AppData\\Local\\Temp\\ipykernel_3744\\1561337004.py:1: FutureWarning: A value is trying to be set on a copy of a DataFrame or Series through chained assignment using an inplace method.\n",
      "The behavior will change in pandas 3.0. This inplace method will never work because the intermediate object on which we are setting values always behaves as a copy.\n",
      "\n",
      "For example, when doing 'df[col].method(value, inplace=True)', try using 'df.method({col: value}, inplace=True)' or df[col] = df[col].method(value) instead, to perform the operation inplace on the original object.\n",
      "\n",
      "\n",
      "  df['rating'].fillna(df['rating'].mean(), inplace=True)\n"
     ]
    }
   ],
   "source": [
    "df['rating'].fillna(df['rating'].mean(), inplace=True)"
   ]
  },
  {
   "cell_type": "code",
   "execution_count": 48,
   "metadata": {},
   "outputs": [
    {
     "name": "stdout",
     "output_type": "stream",
     "text": [
      "product         0\n",
      "category        0\n",
      "sub_category    0\n",
      "brand           0\n",
      "sale_price      0\n",
      "market_price    0\n",
      "type            0\n",
      "rating          0\n",
      "description     0\n",
      "dtype: int64\n"
     ]
    }
   ],
   "source": [
    "missing_values_after3 = df.isnull().sum()\n",
    "\n",
    "# show all rows\n",
    "pd.set_option('display.max_rows', None)\n",
    "\n",
    "print(missing_values_after3)"
   ]
  },
  {
   "cell_type": "code",
   "execution_count": 49,
   "metadata": {},
   "outputs": [
    {
     "name": "stdout",
     "output_type": "stream",
     "text": [
      "Empty DataFrame\n",
      "Columns: [product, category, sub_category, brand, sale_price, market_price, type, rating, description]\n",
      "Index: []\n",
      "Number of products with market_price = 0 : 0\n"
     ]
    }
   ],
   "source": [
    "# Check for rows where market_price is 0\n",
    "zero_market_price = df[df['market_price'] == 0]\n",
    "\n",
    "# Display the rows\n",
    "print(zero_market_price)\n",
    "\n",
    "# Count how many such rows exist\n",
    "print(f\"Number of products with market_price = 0 : {len(zero_market_price)}\")"
   ]
  },
  {
   "cell_type": "code",
   "execution_count": 50,
   "metadata": {},
   "outputs": [
    {
     "name": "stdout",
     "output_type": "stream",
     "text": [
      "Empty DataFrame\n",
      "Columns: [product, category, sub_category, brand, sale_price, market_price, type, rating, description]\n",
      "Index: []\n",
      "Number of products where sale price is greater than market price: 0\n"
     ]
    }
   ],
   "source": [
    "# Count rows where sale price is greater than market price\n",
    "invalid_prices = df[df['sale_price'] > df['market_price']]\n",
    "\n",
    "# Display the rows (optional)\n",
    "print(invalid_prices)\n",
    "\n",
    "# Print the number of such rows\n",
    "print(f\"Number of products where sale price is greater than market price: {len(invalid_prices)}\")"
   ]
  },
  {
   "cell_type": "code",
   "execution_count": 51,
   "metadata": {},
   "outputs": [
    {
     "name": "stdout",
     "output_type": "stream",
     "text": [
      "Q&A dataset created successfully!\n"
     ]
    }
   ],
   "source": [
    "# create the Q&A dataset\n",
    "\n",
    "# List for storing Q&A pairs\n",
    "qa_pairs = []\n",
    "\n",
    "# 1. Basic Q&A generation\n",
    "for _, row in df.iterrows():\n",
    "    product = row['product']\n",
    "    category = row['category']\n",
    "    sub_category = row['sub_category']\n",
    "    brand = row['brand']\n",
    "    price = row['sale_price']\n",
    "    # market_price = row['market_price']\n",
    "    type = row['type']\n",
    "    rating = row['rating']\n",
    "    description = row['description']\n",
    "\n",
    "    qa_pairs.append((f\"What is {product}?\", f\"{product} is a product in the {sub_category} sub category and in the {category} category. Description: {description}\"))\n",
    "    qa_pairs.append((f\"What is the brand of {product}?\", f\"The brand of {product} is {brand}\"))\n",
    "    qa_pairs.append((f\"What is the price of {product}?\", f\"The price of {product} is {price}\"))\n",
    "    qa_pairs.append((f\"What is the type of {product}?\", f\"The type of {product} is {type}\"))\n",
    "    qa_pairs.append((f\"What is the rating of {product}?\", f\"The rating of {product} is {rating}\"))\n",
    "\n",
    "# 2. Sorting products by category\n",
    "categories = df['category'].unique()\n",
    "for category in categories:\n",
    "    category_products = df[df['category'] == category]\n",
    "\n",
    "    # Sort by price (ascending)\n",
    "    sorted_by_price = category_products.sort_values(by='sale_price')\n",
    "    price_list = \", \".join([f\"{row['product']} (${row['sale_price']})\" for _, row in sorted_by_price.iterrows()])\n",
    "    qa_pairs.append((f\"Sort products in {category} by price\", f\"The products in {category} sorted by price are: {price_list}\"))\n",
    "\n",
    "    # Sort by rating (descending)\n",
    "    sorted_by_rating = category_products.sort_values(by='rating', ascending=False)\n",
    "    rating_list = \", \".join([f\"{row['product']} (Rating: {row['rating']})\" for _, row in sorted_by_rating.iterrows()])\n",
    "    qa_pairs.append((f\"Sort products in {category} by rating\", f\"The products in {category} sorted by rating are: {rating_list}\"))\n",
    "\n",
    "# 3. Discount calculation\n",
    "for _, row in df.iterrows():\n",
    "    product = row['product']\n",
    "    price = row['sale_price']\n",
    "    market_price = row['market_price']\n",
    "\n",
    "    if price and market_price:\n",
    "        discount = round((market_price - price) / market_price * 100, 2)\n",
    "        qa_pairs.append((f\"What is the discount on {product}?\", f\"The discount on {product} is {discount}%\"))\n",
    "\n",
    "# Save the Q&A dataset\n",
    "qa_df = pd.DataFrame(qa_pairs, columns=[\"question\", \"answer\"])\n",
    "qa_df.to_csv(r\"D:\\toka\\depi\\project\\E-commerce-chatbot\\data/qna_dataset.csv\", index=False)\n",
    "\n",
    "print(\"Q&A dataset created successfully!\")"
   ]
  }
 ],
 "metadata": {
  "kernelspec": {
   "display_name": "Python 3",
   "language": "python",
   "name": "python3"
  },
  "language_info": {
   "codemirror_mode": {
    "name": "ipython",
    "version": 3
   },
   "file_extension": ".py",
   "mimetype": "text/x-python",
   "name": "python",
   "nbconvert_exporter": "python",
   "pygments_lexer": "ipython3",
   "version": "3.12.4"
  }
 },
 "nbformat": 4,
 "nbformat_minor": 2
}
